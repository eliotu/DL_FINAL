{
 "cells": [
  {
   "cell_type": "code",
   "execution_count": 1,
   "metadata": {},
   "outputs": [
    {
     "name": "stdout",
     "output_type": "stream",
     "text": [
      "Successfully loaded AAPL with 14084 rows\n",
      "Successfully loaded AMGN with 14084 rows\n",
      "Successfully loaded AXP with 14084 rows\n",
      "Successfully loaded BA with 14084 rows\n",
      "Successfully loaded CAT with 14084 rows\n",
      "Successfully loaded CRM with 14084 rows\n",
      "Successfully loaded CSCO with 14084 rows\n",
      "Successfully loaded CVX with 14084 rows\n",
      "Successfully loaded DIA with 14084 rows\n",
      "Successfully loaded DIS with 14084 rows\n",
      "Successfully loaded GS with 14084 rows\n",
      "Successfully loaded HD with 14084 rows\n",
      "Successfully loaded HON with 14084 rows\n",
      "Successfully loaded IBM with 14084 rows\n",
      "Successfully loaded INTC with 14084 rows\n",
      "Successfully loaded JNJ with 14084 rows\n",
      "Successfully loaded JPM with 14084 rows\n",
      "Successfully loaded KO with 14084 rows\n",
      "Successfully loaded MCD with 14084 rows\n",
      "Successfully loaded MMM with 14084 rows\n",
      "Successfully loaded MRK with 14084 rows\n",
      "Successfully loaded MSFT with 14084 rows\n",
      "Successfully loaded NKE with 14084 rows\n",
      "Successfully loaded PG with 14084 rows\n",
      "Successfully loaded TRV with 14084 rows\n",
      "Successfully loaded UNH with 14084 rows\n",
      "Successfully loaded VZ with 14084 rows\n",
      "Successfully loaded V with 14084 rows\n",
      "Successfully loaded WBA with 14084 rows\n",
      "Successfully loaded WMT with 14084 rows\n",
      "\n",
      "Length of dataset:                  14076\n",
      "Shape of eod_data_batch:            (30, 7, 4)\n",
      "Shape of cholesky_vectors_batch:    (7, 465)\n",
      "Shape of mask_batch:                (30,)\n",
      "Shape of base_batch:                (30,)\n",
      "Shape of ground_truth_batch:        (30,)\n"
     ]
    }
   ],
   "source": [
    "from load_data import CholeskyStockDataset\n",
    "\n",
    "zip_path = \"../../data/Data_Cleaned.zip\"\n",
    "data_path = \"../../data/Data_60min_cleaned\"\n",
    "N_FIRST_STOCKS = 30\n",
    "TIME_STEPS = 7\n",
    "PREDICTION_HORIZON = 1\n",
    "ALPHA = 0.1\n",
    "\n",
    "dataset = CholeskyStockDataset(\n",
    "    zip_path,\n",
    "    data_path,\n",
    "    sequence_length=TIME_STEPS,\n",
    "    prediction_horizon=PREDICTION_HORIZON,\n",
    "    n_first_stocks=N_FIRST_STOCKS,\n",
    ")\n",
    "\n",
    "sample_item = dataset[0]\n",
    "cholesky_vector_size = sample_item[1].shape[1]\n",
    "print(f\"\\nLength of dataset:                  {len(dataset)}\")\n",
    "print(f\"Shape of eod_data_batch:            {sample_item[0].shape}\")\n",
    "print(f\"Shape of cholesky_vectors_batch:    {sample_item[1].shape}\")\n",
    "print(f\"Shape of mask_batch:                {sample_item[2].shape}\")\n",
    "print(f\"Shape of base_batch:                {sample_item[3].shape}\")\n",
    "print(f\"Shape of ground_truth_batch:        {sample_item[4].shape}\")"
   ]
  },
  {
   "cell_type": "code",
   "execution_count": 2,
   "metadata": {},
   "outputs": [
    {
     "name": "stdout",
     "output_type": "stream",
     "text": [
      "\n",
      "Sample batch shapes:\n",
      "Shape of eod_data_batch:            torch.Size([1, 30, 7, 4])\n",
      "Shape of cholesky_vectors_batch:    torch.Size([1, 7, 465])\n",
      "Shape of mask_batch:                torch.Size([1, 30])\n",
      "Shape of base_batch:                torch.Size([1, 30])\n",
      "Shape of ground_truth_batch:        torch.Size([1, 30])\n"
     ]
    }
   ],
   "source": [
    "from load_data import create_dataloaders\n",
    "\n",
    "train_loader, valid_loader, test_loader = create_dataloaders(\n",
    "    dataset,\n",
    "    train_ratio=0.8,\n",
    "    valid_ratio=0.1,\n",
    "    test_ratio=0.1,\n",
    "    batch_size=1\n",
    ")\n",
    "\n",
    "sample_batch = next(iter(train_loader))\n",
    "eod_data_batch, cholesky_vectors_batch, mask_batch, base_batch, ground_truth_batch = sample_batch\n",
    "\n",
    "print(f\"\\nSample batch shapes:\")\n",
    "print(f\"Shape of eod_data_batch:            {eod_data_batch.shape}\")\n",
    "print(f\"Shape of cholesky_vectors_batch:    {cholesky_vectors_batch.shape}\")\n",
    "print(f\"Shape of mask_batch:                {mask_batch.shape}\")\n",
    "print(f\"Shape of base_batch:                {base_batch.shape}\")\n",
    "print(f\"Shape of ground_truth_batch:        {ground_truth_batch.shape}\")\n"
   ]
  },
  {
   "cell_type": "code",
   "execution_count": 3,
   "metadata": {},
   "outputs": [
    {
     "name": "stdout",
     "output_type": "stream",
     "text": [
      "{'input_size': 465, 'hidden_size': 465, 'n_assets': 30, 'sequence_length': 7, 'learning_rate': 1e-05, 'lambda_penalty': 5e-07}\n",
      "Loading trained CholeskyLSTM with hyperparameters:\n",
      "Input size:     465\n",
      "Hidden size:    465\n",
      "N_assets:       30\n"
     ]
    },
    {
     "name": "stderr",
     "output_type": "stream",
     "text": [
      "/home/ryounis/Documents/Zurich/ETHZ/MA3/DeepL/DL_2024/LSTM_Stockmixer/src/model.py:31: FutureWarning: You are using `torch.load` with `weights_only=False` (the current default value), which uses the default pickle module implicitly. It is possible to construct malicious pickle data which will execute arbitrary code during unpickling (See https://github.com/pytorch/pytorch/blob/main/SECURITY.md#untrusted-models for more details). In a future release, the default value for `weights_only` will be flipped to `True`. This limits the functions that could be executed during unpickling. Arbitrary objects will no longer be allowed to be loaded via this mode unless they are explicitly allowlisted by the user via `torch.serialization.add_safe_globals`. We recommend you start setting `weights_only=True` for any use case where you don't have full control of the loaded file. Please open an issue on GitHub for any issues related to this experimental feature.\n",
      "  model_info = torch.load(lstm_model_path)\n",
      "/tmp/ipykernel_291106/4213370136.py:17: FutureWarning: You are using `torch.load` with `weights_only=False` (the current default value), which uses the default pickle module implicitly. It is possible to construct malicious pickle data which will execute arbitrary code during unpickling (See https://github.com/pytorch/pytorch/blob/main/SECURITY.md#untrusted-models for more details). In a future release, the default value for `weights_only` will be flipped to `True`. This limits the functions that could be executed during unpickling. Arbitrary objects will no longer be allowed to be loaded via this mode unless they are explicitly allowlisted by the user via `torch.serialization.add_safe_globals`. We recommend you start setting `weights_only=True` for any use case where you don't have full control of the loaded file. Please open an issue on GitHub for any issues related to this experimental feature.\n",
      "  model.load_state_dict(torch.load(\"./model/model_weights.pth\"))\n",
      "Testing:   0%|          | 0/1409 [00:00<?, ?it/s]"
     ]
    },
    {
     "name": "stdout",
     "output_type": "stream",
     "text": [
      "tensor([ 0.0118, -0.0174, -0.0042, -0.0136, -0.0142, -0.0032, -0.0032, -0.0155,\n",
      "        -0.0049, -0.0045, -0.0056, -0.0054, -0.0079, -0.0054, -0.0057, -0.0090,\n",
      "        -0.0061,  0.0012, -0.0032, -0.0053, -0.0118, -0.0004,  0.0027, -0.0024,\n",
      "        -0.0049, -0.0004,  0.0012, -0.0063, -0.0064,  0.0057],\n",
      "       dtype=torch.float64)\n",
      "tensor([ 0.0033,  0.0139,  0.0017,  0.0094,  0.0063,  0.0063,  0.0066,  0.0101,\n",
      "         0.0047,  0.0024,  0.0029,  0.0033,  0.0056,  0.0051,  0.0063,  0.0056,\n",
      "         0.0024, -0.0005,  0.0038,  0.0050,  0.0133,  0.0084, -0.0010,  0.0028,\n",
      "         0.0003,  0.0048,  0.0036,  0.0052,  0.0039, -0.0031],\n",
      "       dtype=torch.float64)\n",
      "tensor([1., 1., 1., 1., 1., 1., 1., 1., 1., 1., 1., 1., 1., 1., 1., 1., 1., 1.,\n",
      "        1., 1., 1., 1., 1., 1., 1., 1., 1., 1., 1., 1.], dtype=torch.float64)\n"
     ]
    },
    {
     "name": "stderr",
     "output_type": "stream",
     "text": [
      "Testing: 100%|██████████| 1409/1409 [00:15<00:00, 88.38it/s] \n"
     ]
    }
   ],
   "source": [
    "from model import CholeskyStockMixer\n",
    "from train import test_model\n",
    "import torch\n",
    "\n",
    "\n",
    "model = CholeskyStockMixer(\n",
    "    stocks=N_FIRST_STOCKS,\n",
    "    time_steps=TIME_STEPS,\n",
    "    channels=4,\n",
    "    market=20,\n",
    "    scale_dim=3,\n",
    "    cholesky_hidden_size=465,\n",
    "    cholesky_vector_size=cholesky_vector_size,\n",
    "    lstm_model_path=\"../../src/LSTM/model/cholesky_lstm_model_eliot.pth\",\n",
    "    # dropout_rate=0.2\n",
    ")\n",
    "model.load_state_dict(torch.load(\"./model/model_weights.pth\"))\n",
    "history = test_model(model, test_loader=test_loader, stock_num=N_FIRST_STOCKS, alpha=ALPHA, desc=\"Testing\")"
   ]
  },
  {
   "cell_type": "code",
   "execution_count": 4,
   "metadata": {},
   "outputs": [
    {
     "data": {
      "text/plain": [
       "({'total_loss': 0.00019076979670732007,\n",
       "  'reg_loss': 0.00018588384771983996,\n",
       "  'rank_loss': 4.885948987479638e-05},\n",
       " {'mse': np.float64(0.00018601577380054975),\n",
       "  'IC': np.float64(-0.6747467987892735),\n",
       "  'RIC': np.float64(-2.9324431264639244),\n",
       "  'sharpe5': np.float64(-23.52760041441193),\n",
       "  'prec_10': np.float64(0.2995031937544358)})"
      ]
     },
     "execution_count": 4,
     "metadata": {},
     "output_type": "execute_result"
    }
   ],
   "source": [
    "history"
   ]
  }
 ],
 "metadata": {
  "kernelspec": {
   "display_name": ".venv",
   "language": "python",
   "name": "python3"
  },
  "language_info": {
   "codemirror_mode": {
    "name": "ipython",
    "version": 3
   },
   "file_extension": ".py",
   "mimetype": "text/x-python",
   "name": "python",
   "nbconvert_exporter": "python",
   "pygments_lexer": "ipython3",
   "version": "3.10.12"
  }
 },
 "nbformat": 4,
 "nbformat_minor": 2
}
