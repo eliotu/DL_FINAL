{
 "cells": [
  {
   "cell_type": "code",
   "execution_count": 1,
   "metadata": {},
   "outputs": [],
   "source": [
    "import zipfile\n",
    "import pandas as pd\n",
    "\n",
    "import numpy as np\n",
    "import pandas as pd\n",
    "import torch\n",
    "import torch.nn as nn\n",
    "from torch.utils.data import Dataset, DataLoader\n",
    "\n",
    "\n",
    "import numpy as np\n",
    "import pandas as pd\n",
    "from numpy.linalg import cholesky\n",
    "\n",
    "from utils.cholesky_rnn import *\n",
    "from utils.cov_data_loader import CustomCovDataLoader"
   ]
  },
  {
   "cell_type": "code",
   "execution_count": 4,
   "metadata": {},
   "outputs": [
    {
     "name": "stdout",
     "output_type": "stream",
     "text": [
      "CSV files in the ZIP: ['Data_Cleaned/', 'Data_Cleaned/AAPL_1min_data_cleaned.csv', 'Data_Cleaned/AMGN_1min_data_cleaned.csv', 'Data_Cleaned/AXP_1min_data_cleaned.csv', 'Data_Cleaned/BA_1min_data_cleaned.csv', 'Data_Cleaned/CAT_1min_data_cleaned.csv', 'Data_Cleaned/CRM_1min_data_cleaned.csv', 'Data_Cleaned/CSCO_1min_data_cleaned.csv', 'Data_Cleaned/CVX_1min_data_cleaned.csv', 'Data_Cleaned/DIA_1min_data_cleaned.csv', 'Data_Cleaned/DIS_1min_data_cleaned.csv', 'Data_Cleaned/GS_1min_data_cleaned.csv', 'Data_Cleaned/HD_1min_data_cleaned.csv', 'Data_Cleaned/HON_1min_data_cleaned.csv', 'Data_Cleaned/IBM_1min_data_cleaned.csv', 'Data_Cleaned/INTC_1min_data_cleaned.csv', 'Data_Cleaned/JNJ_1min_data_cleaned.csv', 'Data_Cleaned/JPM_1min_data_cleaned.csv', 'Data_Cleaned/KO_1min_data_cleaned.csv', 'Data_Cleaned/MCD_1min_data_cleaned.csv', 'Data_Cleaned/MMM_1min_data_cleaned.csv', 'Data_Cleaned/MRK_1min_data_cleaned.csv', 'Data_Cleaned/MSFT_1min_data_cleaned.csv', 'Data_Cleaned/NKE_1min_data_cleaned.csv', 'Data_Cleaned/PG_1min_data_cleaned.csv', 'Data_Cleaned/TRV_1min_data_cleaned.csv', 'Data_Cleaned/UNH_1min_data_cleaned.csv', 'Data_Cleaned/VZ_1min_data_cleaned.csv', 'Data_Cleaned/V_1min_data_cleaned.csv', 'Data_Cleaned/WBA_1min_data_cleaned.csv', 'Data_Cleaned/WMT_1min_data_cleaned.csv']\n"
     ]
    }
   ],
   "source": [
    "# Path to the ZIP file\n",
    "zip_path = '../../data/Data_Cleaned.zip'\n",
    "\n",
    "N_STOCKS = 5\n",
    "DfLoader = CustomCovDataLoader(zip_path, n_first=N_STOCKS)\n",
    "merged_df = DfLoader.load_data()\n",
    "merged_df_minutely = DfLoader.transform_data(merged_df).copy()\n",
    "merged_df_hourly = DfLoader.transform_data(merged_df, freq='1h').copy()"
   ]
  },
  {
   "cell_type": "code",
   "execution_count": 5,
   "metadata": {},
   "outputs": [
    {
     "data": {
      "text/html": [
       "<div>\n",
       "<style scoped>\n",
       "    .dataframe tbody tr th:only-of-type {\n",
       "        vertical-align: middle;\n",
       "    }\n",
       "\n",
       "    .dataframe tbody tr th {\n",
       "        vertical-align: top;\n",
       "    }\n",
       "\n",
       "    .dataframe thead th {\n",
       "        text-align: right;\n",
       "    }\n",
       "</style>\n",
       "<table border=\"1\" class=\"dataframe\">\n",
       "  <thead>\n",
       "    <tr style=\"text-align: right;\">\n",
       "      <th></th>\n",
       "      <th>AAPL_pret</th>\n",
       "      <th>AMGN_pret</th>\n",
       "      <th>AXP_pret</th>\n",
       "      <th>BA_pret</th>\n",
       "      <th>CAT_pret</th>\n",
       "    </tr>\n",
       "    <tr>\n",
       "      <th>timestamp</th>\n",
       "      <th></th>\n",
       "      <th></th>\n",
       "      <th></th>\n",
       "      <th></th>\n",
       "      <th></th>\n",
       "    </tr>\n",
       "  </thead>\n",
       "  <tbody>\n",
       "    <tr>\n",
       "      <th>2016-01-04 10:00:00</th>\n",
       "      <td>0.003001</td>\n",
       "      <td>-0.004973</td>\n",
       "      <td>-0.009797</td>\n",
       "      <td>-0.009855</td>\n",
       "      <td>-0.009396</td>\n",
       "    </tr>\n",
       "    <tr>\n",
       "      <th>2016-01-04 11:00:00</th>\n",
       "      <td>0.007348</td>\n",
       "      <td>-0.003013</td>\n",
       "      <td>-0.000445</td>\n",
       "      <td>-0.001396</td>\n",
       "      <td>0.000439</td>\n",
       "    </tr>\n",
       "    <tr>\n",
       "      <th>2016-01-04 12:00:00</th>\n",
       "      <td>0.004928</td>\n",
       "      <td>-0.000970</td>\n",
       "      <td>-0.000396</td>\n",
       "      <td>0.003360</td>\n",
       "      <td>0.003495</td>\n",
       "    </tr>\n",
       "    <tr>\n",
       "      <th>2016-01-04 13:00:00</th>\n",
       "      <td>0.009859</td>\n",
       "      <td>-0.002568</td>\n",
       "      <td>0.001584</td>\n",
       "      <td>0.002659</td>\n",
       "      <td>0.009019</td>\n",
       "    </tr>\n",
       "    <tr>\n",
       "      <th>2016-01-04 14:00:00</th>\n",
       "      <td>-0.002407</td>\n",
       "      <td>0.003336</td>\n",
       "      <td>-0.000247</td>\n",
       "      <td>-0.001610</td>\n",
       "      <td>0.012901</td>\n",
       "    </tr>\n",
       "  </tbody>\n",
       "</table>\n",
       "</div>"
      ],
      "text/plain": [
       "                     AAPL_pret  AMGN_pret  AXP_pret   BA_pret  CAT_pret\n",
       "timestamp                                                              \n",
       "2016-01-04 10:00:00   0.003001  -0.004973 -0.009797 -0.009855 -0.009396\n",
       "2016-01-04 11:00:00   0.007348  -0.003013 -0.000445 -0.001396  0.000439\n",
       "2016-01-04 12:00:00   0.004928  -0.000970 -0.000396  0.003360  0.003495\n",
       "2016-01-04 13:00:00   0.009859  -0.002568  0.001584  0.002659  0.009019\n",
       "2016-01-04 14:00:00  -0.002407   0.003336 -0.000247 -0.001610  0.012901"
      ]
     },
     "execution_count": 5,
     "metadata": {},
     "output_type": "execute_result"
    }
   ],
   "source": [
    "merged_df_hourly.head()"
   ]
  },
  {
   "cell_type": "code",
   "execution_count": 6,
   "metadata": {},
   "outputs": [
    {
     "data": {
      "text/plain": [
       "(14084, 5)"
      ]
     },
     "execution_count": 6,
     "metadata": {},
     "output_type": "execute_result"
    }
   ],
   "source": [
    "merged_df_hourly.shape"
   ]
  },
  {
   "cell_type": "code",
   "execution_count": 7,
   "metadata": {},
   "outputs": [],
   "source": [
    "'''RMSE'''\n",
    "class RMSELoss(nn.Module):\n",
    "    def __init__(self):\n",
    "        super().__init__()\n",
    "        self.mse = nn.MSELoss()\n",
    "\n",
    "    def forward(self,yhat,y):\n",
    "        return torch.sqrt(self.mse(yhat,y))\n",
    "    \n",
    "'''Penalized RMSE'''\n",
    "class SignSensitiveRMSELoss(nn.Module):\n",
    "    def __init__(self, lambda_weight):\n",
    "        super().__init__()\n",
    "        self.mse = nn.MSELoss()\n",
    "        self.lambda_weight = lambda_weight\n",
    "\n",
    "    def forward(self, yhat, y):\n",
    "        # Ensure yhat and y are tensors and their shapes are compatible\n",
    "        assert isinstance(yhat, torch.Tensor), \"yhat must be a tensor\"\n",
    "        assert isinstance(y, torch.Tensor), \"y must be a tensor\"\n",
    "        assert yhat.shape == y.shape, \"Shapes of yhat and y must match\"\n",
    "\n",
    "        # RMSE loss\n",
    "        mse_loss = self.mse(yhat, y)  # MSE output is a scalar tensor\n",
    "        rmse_loss = torch.sqrt(mse_loss)  # Apply sqrt to the scalar tensor\n",
    "\n",
    "        # Reconstruct covariance matrices from true and predicted Cholesky factors\n",
    "        def reconstruct_cov(cholesky_vec):\n",
    "            batch_size = cholesky_vec.size(0)\n",
    "            n = int((-1 + torch.sqrt(torch.tensor(1 + 8 * cholesky_vec.size(1), dtype=torch.float32))) // 2)\n",
    "            L = torch.zeros(batch_size, n, n, device=cholesky_vec.device)\n",
    "            tril_indices = torch.tril_indices(row=n, col=n, device=cholesky_vec.device)\n",
    "            L[:, tril_indices[0], tril_indices[1]] = cholesky_vec\n",
    "            return L @ L.transpose(1, 2)\n",
    "\n",
    "        true_cov = reconstruct_cov(y)\n",
    "        pred_cov = reconstruct_cov(yhat)\n",
    "\n",
    "        # Sign-consistency penalty\n",
    "        sign_diff = torch.sign(true_cov) - torch.sign(pred_cov)\n",
    "        sign_penalty = torch.sum((sign_diff ** 2) / 4, dim=(1, 2))  # Penalize per matrix\n",
    "        sign_penalty = torch.mean(sign_penalty)  # Average over batch\n",
    "\n",
    "        # Total loss\n",
    "        total_loss = rmse_loss + self.lambda_weight * sign_penalty\n",
    "        return total_loss\n",
    "    \n",
    "'''Eucledian Distance'''\n",
    "class EuclideanLoss(nn.Module):\n",
    "    def __init__(self):\n",
    "        super().__init__()\n",
    "\n",
    "    def forward(self, yhat, y):\n",
    "        def reconstruct_cov(cholesky_vec):\n",
    "            batch_size = cholesky_vec.size(0)\n",
    "            n = int((-1 + torch.sqrt(torch.tensor(1 + 8 * cholesky_vec.size(1), dtype=torch.float32))) // 2)\n",
    "            L = torch.zeros(batch_size, n, n, device=cholesky_vec.device)\n",
    "            tril_indices = torch.tril_indices(row=n, col=n, device=cholesky_vec.device)\n",
    "            L[:, tril_indices[0], tril_indices[1]] = cholesky_vec\n",
    "            return L @ L.transpose(1, 2)\n",
    "        \n",
    "        true_cov = reconstruct_cov(y)\n",
    "        pred_cov = reconstruct_cov(yhat)\n",
    "        diff = pred_cov - true_cov\n",
    "        \n",
    "        # Vectorize lower triangular part (including diagonal)\n",
    "        batch_size = diff.size(0)\n",
    "        tril_indices = torch.tril_indices(row=diff.size(1), col=diff.size(2), device=diff.device)\n",
    "        vech_diff = diff[:, tril_indices[0], tril_indices[1]]\n",
    "        \n",
    "        euclidean_distance = torch.sum(vech_diff ** 2, dim=1)\n",
    "        return torch.mean(euclidean_distance)\n",
    "\n",
    "class FrobeniusLoss(nn.Module):\n",
    "    def __init__(self):\n",
    "        super().__init__()\n",
    "\n",
    "    def forward(self, yhat, y):\n",
    "        def reconstruct_cov(cholesky_vec):\n",
    "            batch_size = cholesky_vec.size(0)\n",
    "            n = int((-1 + torch.sqrt(torch.tensor(1 + 8 * cholesky_vec.size(1), dtype=torch.float32))) // 2)\n",
    "            L = torch.zeros(batch_size, n, n, device=cholesky_vec.device)\n",
    "            tril_indices = torch.tril_indices(row=n, col=n, device=cholesky_vec.device)\n",
    "            L[:, tril_indices[0], tril_indices[1]] = cholesky_vec\n",
    "            return L @ L.transpose(1, 2)\n",
    "        \n",
    "        true_cov = reconstruct_cov(y)\n",
    "        pred_cov = reconstruct_cov(yhat)\n",
    "        frobenius_distance = torch.norm(pred_cov - true_cov, p='fro', dim=(1, 2))\n",
    "        return torch.mean(frobenius_distance)\n",
    "    \n",
    "\n",
    "class FrobeniusLossWithSignPenalty(nn.Module):\n",
    "    def __init__(self, lambda_penalty=0.1):\n",
    "        \"\"\"\n",
    "        Initializes the FrobeniusLossWithSignPenalty.\n",
    "\n",
    "        Parameters:\n",
    "        - lambda_penalty: Regularization parameter for the sign penalty term.\n",
    "        \"\"\"\n",
    "        super().__init__()\n",
    "        self.lambda_penalty = lambda_penalty\n",
    "\n",
    "    def forward(self, yhat, y):\n",
    "        def reconstruct_cov(cholesky_vec):\n",
    "            batch_size = cholesky_vec.size(0)\n",
    "            n = int((-1 + torch.sqrt(torch.tensor(1 + 8 * cholesky_vec.size(1), dtype=torch.float32))) // 2)\n",
    "            L = torch.zeros(batch_size, n, n, device=cholesky_vec.device)\n",
    "            tril_indices = torch.tril_indices(row=n, col=n, device=cholesky_vec.device)\n",
    "            L[:, tril_indices[0], tril_indices[1]] = cholesky_vec\n",
    "            return L @ L.transpose(1, 2)\n",
    "        \n",
    "        # Reconstruct covariance matrices\n",
    "        true_cov = reconstruct_cov(y)\n",
    "        pred_cov = reconstruct_cov(yhat)\n",
    "        \n",
    "        # Frobenius norm loss\n",
    "        frobenius_distance = torch.norm(pred_cov - true_cov, p='fro', dim=(1, 2))\n",
    "        \n",
    "        # Calculate sign penalty only for the lower triangular part\n",
    "        tril_indices = torch.tril_indices(row=true_cov.size(1), col=true_cov.size(2), device=true_cov.device)\n",
    "        true_signs = torch.sign(true_cov[:, tril_indices[0], tril_indices[1]])\n",
    "        pred_signs = torch.sign(pred_cov[:, tril_indices[0], tril_indices[1]])\n",
    "        \n",
    "        # Compute the sign difference penalty\n",
    "        sign_diff = (true_signs - pred_signs) / 2  # Difference in signs (values: -1, 0, 1)\n",
    "        sign_penalty = torch.sum(sign_diff ** 2, dim=1)  # Penalize squared difference in signs\n",
    "        \n",
    "        # Combine the losses\n",
    "        total_loss = torch.mean(frobenius_distance + self.lambda_penalty * sign_penalty)\n",
    "        return total_loss\n",
    "\n",
    "class SignAccuracyLoss(nn.Module):\n",
    "    def __init__(self):\n",
    "        \"\"\"\n",
    "        Initializes the SignAccuracyLoss class.\n",
    "        This loss calculates the mean accuracy of the predicted signs\n",
    "        compared to the true signs for the lower triangular part of covariance matrices.\n",
    "        \"\"\"\n",
    "        super().__init__()\n",
    "\n",
    "    def forward(self, yhat, y):\n",
    "        def reconstruct_cov(cholesky_vec):\n",
    "            batch_size = cholesky_vec.size(0)\n",
    "            n = int((-1 + torch.sqrt(torch.tensor(1 + 8 * cholesky_vec.size(1), dtype=torch.float32))) // 2)\n",
    "            L = torch.zeros(batch_size, n, n, device=cholesky_vec.device)\n",
    "            tril_indices = torch.tril_indices(row=n, col=n, device=cholesky_vec.device)\n",
    "            L[:, tril_indices[0], tril_indices[1]] = cholesky_vec\n",
    "            return L @ L.transpose(1, 2)\n",
    "        \n",
    "        # Reconstruct covariance matrices\n",
    "        true_cov = reconstruct_cov(y)\n",
    "        pred_cov = reconstruct_cov(yhat)\n",
    "\n",
    "        # Extract lower triangular indices\n",
    "        tril_indices = torch.tril_indices(row=true_cov.size(1), col=true_cov.size(2), device=true_cov.device)\n",
    "\n",
    "        # Get true and predicted signs for the lower triangular part\n",
    "        true_signs = torch.sign(true_cov[:, tril_indices[0], tril_indices[1]])\n",
    "        pred_signs = torch.sign(pred_cov[:, tril_indices[0], tril_indices[1]])\n",
    "\n",
    "        # Calculate accuracy of sign prediction\n",
    "        correct_signs = (true_signs == pred_signs).float()  # Element-wise comparison (1 if correct, 0 if not)\n",
    "        sign_accuracy = torch.mean(correct_signs)  # Mean accuracy across the batch\n",
    "\n",
    "        return 1 - sign_accuracy  # Return 1 - accuracy to use it as a \"loss\" (minimizing it maximizes accuracy)\n"
   ]
  },
  {
   "cell_type": "code",
   "execution_count": 8,
   "metadata": {},
   "outputs": [
    {
     "data": {
      "text/html": [
       "<div>\n",
       "<style scoped>\n",
       "    .dataframe tbody tr th:only-of-type {\n",
       "        vertical-align: middle;\n",
       "    }\n",
       "\n",
       "    .dataframe tbody tr th {\n",
       "        vertical-align: top;\n",
       "    }\n",
       "\n",
       "    .dataframe thead th {\n",
       "        text-align: right;\n",
       "    }\n",
       "</style>\n",
       "<table border=\"1\" class=\"dataframe\">\n",
       "  <thead>\n",
       "    <tr style=\"text-align: right;\">\n",
       "      <th></th>\n",
       "      <th>AAPL_pret</th>\n",
       "      <th>AMGN_pret</th>\n",
       "      <th>AXP_pret</th>\n",
       "      <th>BA_pret</th>\n",
       "      <th>CAT_pret</th>\n",
       "    </tr>\n",
       "    <tr>\n",
       "      <th>timestamp</th>\n",
       "      <th></th>\n",
       "      <th></th>\n",
       "      <th></th>\n",
       "      <th></th>\n",
       "      <th></th>\n",
       "    </tr>\n",
       "  </thead>\n",
       "  <tbody>\n",
       "    <tr>\n",
       "      <th>2016-01-04 09:31:00</th>\n",
       "      <td>0.000396</td>\n",
       "      <td>0.000431</td>\n",
       "      <td>0.000394</td>\n",
       "      <td>0.000140</td>\n",
       "      <td>-0.004648</td>\n",
       "    </tr>\n",
       "    <tr>\n",
       "      <th>2016-01-04 09:32:00</th>\n",
       "      <td>0.003516</td>\n",
       "      <td>-0.002373</td>\n",
       "      <td>0.000951</td>\n",
       "      <td>-0.002142</td>\n",
       "      <td>-0.002711</td>\n",
       "    </tr>\n",
       "    <tr>\n",
       "      <th>2016-01-04 09:33:00</th>\n",
       "      <td>-0.001007</td>\n",
       "      <td>-0.001557</td>\n",
       "      <td>-0.001882</td>\n",
       "      <td>-0.000826</td>\n",
       "      <td>0.002894</td>\n",
       "    </tr>\n",
       "    <tr>\n",
       "      <th>2016-01-04 09:34:00</th>\n",
       "      <td>-0.002635</td>\n",
       "      <td>0.000667</td>\n",
       "      <td>-0.002989</td>\n",
       "      <td>-0.001682</td>\n",
       "      <td>0.000678</td>\n",
       "    </tr>\n",
       "    <tr>\n",
       "      <th>2016-01-04 09:35:00</th>\n",
       "      <td>0.001368</td>\n",
       "      <td>0.002146</td>\n",
       "      <td>0.000885</td>\n",
       "      <td>0.000928</td>\n",
       "      <td>-0.000452</td>\n",
       "    </tr>\n",
       "  </tbody>\n",
       "</table>\n",
       "</div>"
      ],
      "text/plain": [
       "                     AAPL_pret  AMGN_pret  AXP_pret   BA_pret  CAT_pret\n",
       "timestamp                                                              \n",
       "2016-01-04 09:31:00   0.000396   0.000431  0.000394  0.000140 -0.004648\n",
       "2016-01-04 09:32:00   0.003516  -0.002373  0.000951 -0.002142 -0.002711\n",
       "2016-01-04 09:33:00  -0.001007  -0.001557 -0.001882 -0.000826  0.002894\n",
       "2016-01-04 09:34:00  -0.002635   0.000667 -0.002989 -0.001682  0.000678\n",
       "2016-01-04 09:35:00   0.001368   0.002146  0.000885  0.000928 -0.000452"
      ]
     },
     "execution_count": 8,
     "metadata": {},
     "output_type": "execute_result"
    }
   ],
   "source": [
    "merged_df_minutely.head()"
   ]
  },
  {
   "cell_type": "code",
   "execution_count": null,
   "metadata": {},
   "outputs": [],
   "source": []
  },
  {
   "cell_type": "markdown",
   "metadata": {},
   "source": [
    "## Minutely"
   ]
  },
  {
   "cell_type": "code",
   "execution_count": 7,
   "metadata": {},
   "outputs": [],
   "source": [
    "import matplotlib.pyplot as plt"
   ]
  },
  {
   "cell_type": "code",
   "execution_count": 8,
   "metadata": {},
   "outputs": [],
   "source": [
    "cov_matrices = calculate_hourly_realized_covariance(merged_df_minutely, freq='h', return_cholesky=False, transform=False)"
   ]
  },
  {
   "cell_type": "code",
   "execution_count": 9,
   "metadata": {},
   "outputs": [
    {
     "data": {
      "text/plain": [
       "(array([1.000e+00, 1.000e+01, 5.500e+01, 3.260e+02, 4.890e+02, 8.890e+02,\n",
       "        9.530e+02, 1.203e+03, 1.746e+03, 8.412e+03]),\n",
       " array([ 6. ,  6.9,  7.8,  8.7,  9.6, 10.5, 11.4, 12.3, 13.2, 14.1, 15. ]),\n",
       " <BarContainer object of 10 artists>)"
      ]
     },
     "execution_count": 9,
     "metadata": {},
     "output_type": "execute_result"
    },
    {
     "data": {
      "image/png": "[encoded data removed]",
      "text/plain": [
       "<Figure size 640x480 with 1 Axes>"
      ]
     },
     "metadata": {},
     "output_type": "display_data"
    }
   ],
   "source": [
    "aaa = np.array([[1,2,3], [4,5,6], [7,8,9]])\n",
    "tril_indices = np.tril_indices(3)\n",
    "# aaa[tril_indices]\n",
    "\n",
    "vec_pos = []\n",
    "tril_indices = np.tril_indices(N_STOCKS)\n",
    "for matrix in cov_matrices:\n",
    "    ld_part = matrix[tril_indices]\n",
    "    num_pos = np.sum(np.where(np.sign(ld_part) < 0, 0, 1))\n",
    "    vec_pos.append(num_pos)\n",
    "\n",
    "vec_pos = np.array(vec_pos)\n",
    "plt.hist(vec_pos)"
   ]
  },
  {
   "cell_type": "code",
   "execution_count": 10,
   "metadata": {},
   "outputs": [
    {
     "name": "stdout",
     "output_type": "stream",
     "text": [
      "Shape of Cholesky vectors: (14084, 15)\n"
     ]
    }
   ],
   "source": [
    "cholesky_vectors = calculate_hourly_realized_covariance(merged_df_minutely, freq='h', return_cholesky=True, transform=False)\n",
    "print(f\"Shape of Cholesky vectors: {cholesky_vectors.shape}\")"
   ]
  },
  {
   "cell_type": "code",
   "execution_count": 11,
   "metadata": {},
   "outputs": [
    {
     "name": "stdout",
     "output_type": "stream",
     "text": [
      "Mean sign accuracy: 0.9260\n",
      "Accuracy is the accuracy of guessing the sign of the unique elements of the reconstructed covariance matrices. In this cell we suppose that we always predict the positive values of covariances\n"
     ]
    }
   ],
   "source": [
    "def calculate_mean_sign_accuracy(cholesky_vectors):\n",
    "    def reconstruct_cov(cholesky_vec):\n",
    "        \"\"\"\n",
    "        Reconstruct the covariance matrix from the Cholesky vector.\n",
    "        \"\"\"\n",
    "        n = int((-1 + np.sqrt(1 + 8 * cholesky_vec.shape[1])) // 2)\n",
    "        batch_size = cholesky_vec.shape[0]\n",
    "        L = np.zeros((batch_size, n, n))\n",
    "        tril_indices = np.tril_indices(n)\n",
    "        for i in range(batch_size):\n",
    "            L[i][tril_indices] = cholesky_vec[i]\n",
    "        return np.matmul(L, np.transpose(L, axes=(0, 2, 1)))\n",
    "\n",
    "    # Reconstruct covariance matrices\n",
    "    true_cov = reconstruct_cov(cholesky_vectors)\n",
    "\n",
    "    # Extract lower triangular part (including diagonal)\n",
    "    tril_indices = np.tril_indices(true_cov.shape[1])\n",
    "\n",
    "    # Calculate individual accuracies\n",
    "    accuracies = []\n",
    "    for i in range(true_cov.shape[0]):\n",
    "        true_signs = np.sign(true_cov[i, tril_indices[0], tril_indices[1]])\n",
    "        predicted_signs = np.ones_like(true_signs)  # Assume all positive\n",
    "        accuracy = np.mean(true_signs == predicted_signs)\n",
    "        accuracies.append(accuracy)\n",
    "\n",
    "    # Return mean accuracy\n",
    "    return np.mean(accuracies)\n",
    "\n",
    "# Example usage\n",
    "mean_accuracy = calculate_mean_sign_accuracy(cholesky_vectors)\n",
    "print(f\"Mean sign accuracy: {mean_accuracy:.4f}\")\n",
    "print(\"Accuracy is the accuracy of guessing the sign of the unique elements of the reconstructed covariance matrices. In this cell we suppose that we always predict the positive values of covariances\")\n"
   ]
  },
  {
   "cell_type": "code",
   "execution_count": 12,
   "metadata": {},
   "outputs": [
    {
     "name": "stdout",
     "output_type": "stream",
     "text": [
      "Shape of Cholesky vectors: (14084, 15)\n",
      "Length of train loader: 11264. Test: 2816\n",
      "Epoch [1/100], Loss: 0.086471364\n",
      "Epoch [2/100], Loss: 0.042522483\n",
      "Epoch [3/100], Loss: 0.013799820\n",
      "Epoch [4/100], Loss: 0.002529001\n",
      "Epoch [5/100], Loss: 0.000388709\n",
      "Epoch [6/100], Loss: 0.000133158\n",
      "Epoch [7/100], Loss: 0.000074935\n",
      "Epoch [8/100], Loss: 0.000054973\n",
      "Epoch [9/100], Loss: 0.000051785\n",
      "Epoch [10/100], Loss: 0.000051299\n",
      "Epoch [11/100], Loss: 0.000051233\n",
      "Epoch [12/100], Loss: 0.000051001\n",
      "Epoch [13/100], Loss: 0.000050587\n",
      "Epoch [14/100], Loss: 0.000050025\n",
      "Epoch [15/100], Loss: 0.000049571\n",
      "Epoch [16/100], Loss: 0.000049332\n",
      "Epoch [17/100], Loss: 0.000049184\n",
      "Epoch [18/100], Loss: 0.000049189\n",
      "Epoch [19/100], Loss: 0.000049038\n",
      "Epoch [20/100], Loss: 0.000049025\n",
      "Epoch [21/100], Loss: 0.000049017\n",
      "Epoch [22/100], Loss: 0.000048971\n",
      "Epoch [23/100], Loss: 0.000048904\n",
      "Epoch [24/100], Loss: 0.000048887\n",
      "Epoch [25/100], Loss: 0.000048865\n",
      "Epoch [26/100], Loss: 0.000048846\n",
      "Epoch [27/100], Loss: 0.000048815\n",
      "Epoch [28/100], Loss: 0.000048793\n",
      "Epoch [29/100], Loss: 0.000048713\n",
      "Epoch [30/100], Loss: 0.000048723\n",
      "Epoch [31/100], Loss: 0.000048664\n",
      "Epoch [32/100], Loss: 0.000048648\n",
      "Epoch [33/100], Loss: 0.000048585\n",
      "Epoch [34/100], Loss: 0.000048564\n",
      "Epoch [35/100], Loss: 0.000048544\n",
      "Epoch [36/100], Loss: 0.000048469\n",
      "Epoch [37/100], Loss: 0.000048487\n",
      "Epoch [38/100], Loss: 0.000048377\n",
      "Epoch [39/100], Loss: 0.000048365\n",
      "Epoch [40/100], Loss: 0.000048391\n",
      "Epoch [41/100], Loss: 0.000048302\n",
      "Epoch [42/100], Loss: 0.000048339\n",
      "Epoch [43/100], Loss: 0.000048229\n",
      "Epoch [44/100], Loss: 0.000048216\n",
      "Epoch [45/100], Loss: 0.000048160\n",
      "Epoch [46/100], Loss: 0.000048117\n",
      "Epoch [47/100], Loss: 0.000048159\n",
      "Epoch [48/100], Loss: 0.000048051\n",
      "Epoch [49/100], Loss: 0.000047976\n",
      "Epoch [50/100], Loss: 0.000047967\n",
      "Epoch [51/100], Loss: 0.000047918\n",
      "Epoch [52/100], Loss: 0.000047897\n",
      "Epoch [53/100], Loss: 0.000047829\n",
      "Epoch [54/100], Loss: 0.000047770\n",
      "Epoch [55/100], Loss: 0.000047820\n",
      "Epoch [56/100], Loss: 0.000047650\n",
      "Epoch [57/100], Loss: 0.000047629\n",
      "Epoch [58/100], Loss: 0.000047634\n",
      "Epoch [59/100], Loss: 0.000047676\n",
      "Epoch [60/100], Loss: 0.000047474\n",
      "Epoch [61/100], Loss: 0.000047549\n",
      "Epoch [62/100], Loss: 0.000047618\n",
      "Epoch [63/100], Loss: 0.000047462\n",
      "Epoch [64/100], Loss: 0.000047362\n",
      "Epoch [65/100], Loss: 0.000047263\n",
      "Epoch [66/100], Loss: 0.000047184\n",
      "Epoch [67/100], Loss: 0.000047328\n",
      "Epoch [68/100], Loss: 0.000047451\n",
      "Epoch [69/100], Loss: 0.000047116\n",
      "Epoch [70/100], Loss: 0.000047316\n",
      "Epoch [71/100], Loss: 0.000047088\n",
      "Epoch [72/100], Loss: 0.000047220\n",
      "Epoch [73/100], Loss: 0.000047212\n",
      "Epoch [74/100], Loss: 0.000047148\n",
      "Epoch [75/100], Loss: 0.000047089\n",
      "Epoch [76/100], Loss: 0.000047084\n",
      "Epoch [77/100], Loss: 0.000046961\n",
      "Epoch [78/100], Loss: 0.000046903\n",
      "Epoch [79/100], Loss: 0.000046928\n",
      "Epoch [80/100], Loss: 0.000046800\n",
      "Epoch [81/100], Loss: 0.000047340\n",
      "Epoch [82/100], Loss: 0.000046928\n",
      "Epoch [83/100], Loss: 0.000047194\n",
      "Epoch [84/100], Loss: 0.000046994\n",
      "Epoch [85/100], Loss: 0.000047277\n",
      "Epoch [86/100], Loss: 0.000047197\n",
      "Epoch [87/100], Loss: 0.000047215\n",
      "Epoch [88/100], Loss: 0.000047229\n",
      "Epoch [89/100], Loss: 0.000046872\n",
      "Epoch [90/100], Loss: 0.000047401\n",
      "Epoch [91/100], Loss: 0.000046983\n",
      "Epoch [92/100], Loss: 0.000047193\n",
      "Epoch [93/100], Loss: 0.000046993\n",
      "Epoch [94/100], Loss: 0.000047045\n",
      "Epoch [95/100], Loss: 0.000047471\n",
      "Epoch [96/100], Loss: 0.000047459\n",
      "Epoch [97/100], Loss: 0.000047650\n",
      "Epoch [98/100], Loss: 0.000047391\n",
      "Epoch [99/100], Loss: 0.000047346\n",
      "Epoch [100/100], Loss: 0.000047468\n"
     ]
    }
   ],
   "source": [
    "# Step 6.1: Calculate Cholesky vectors\n",
    "cholesky_vectors = calculate_hourly_realized_covariance(merged_df_minutely, freq='h', return_cholesky=True, transform=False)\n",
    "print(f\"Shape of Cholesky vectors: {cholesky_vectors.shape}\")\n",
    "\n",
    "# Optimal Parameters!!!!!\n",
    "# hidden_size=128, sequence_length=14, lr=1e-05, penalty:1e-06\n",
    "\n",
    "# Step 6.2: Prepare datasets and dataloaders\n",
    "sequence_length = 7\n",
    "train_dataset, test_dataset = prepare_data(cholesky_vectors, sequence_length)\n",
    "train_loader = DataLoader(train_dataset, batch_size=128, shuffle=True)\n",
    "test_loader = DataLoader(test_dataset, batch_size=128, shuffle=False)\n",
    "print(f\"Length of train loader: {len(train_loader)*128}. Test: {len(test_loader)*128}\")\n",
    "\n",
    "# Step 6.3: Define model, loss function, and optimizer\n",
    "input_size = cholesky_vectors.shape[1]  # Length of Cholesky vector\n",
    "hidden_size = 465  # Can be tuned\n",
    "output_size = cholesky_vectors.shape[1]\n",
    "\n",
    "\n",
    "model = CholeskyLSTM(input_size, hidden_size, output_size, normalize=False)\n",
    "\n",
    "criterion = FrobeniusLossWithSignPenalty(lambda_penalty=5e-07) ## winning 5e-07\n",
    "# criterion = FrobeniusLoss() ## winning 5e-07\n",
    "optimizer = torch.optim.Adam(model.parameters(), lr=1e-05) ## winning 1e-05\n",
    "\n",
    "criterion1 = FrobeniusLossWithSignPenalty(lambda_penalty=5e-07)\n",
    "criterion2 = FrobeniusLoss()\n",
    "criterion3 = SignAccuracyLoss()\n",
    "\n",
    "crit_dict = {'f_norm':criterion1, 'f_norm_pen':criterion2, 'acc':criterion3}\n",
    "\n",
    "# Step 6.4: Train the model\n",
    "cr_values = train_model(model, train_loader, criterion, optimizer, num_epochs=100, crit_dict=crit_dict)\n"
   ]
  },
  {
   "cell_type": "code",
   "execution_count": 13,
   "metadata": {},
   "outputs": [
    {
     "data": {
      "text/plain": [
       "Text(0.5, 1.0, 'Accuracy of the guessed signs vs epoch')"
      ]
     },
     "execution_count": 13,
     "metadata": {},
     "output_type": "execute_result"
    },
    {
     "data": {
      "image/png": "[encoded data removed]",
      "text/plain": [
       "<Figure size 640x480 with 1 Axes>"
      ]
     },
     "metadata": {},
     "output_type": "display_data"
    }
   ],
   "source": [
    "import matplotlib.pyplot as plt\n",
    "plt.plot(range(100), [1 - i.item() for i in cr_values['acc']])\n",
    "plt.title(\"Accuracy of the guessed signs vs epoch\")"
   ]
  },
  {
   "cell_type": "code",
   "execution_count": 14,
   "metadata": {},
   "outputs": [
    {
     "data": {
      "text/plain": [
       "Text(0.5, 1.0, 'Frobenious norm loss vs epoch')"
      ]
     },
     "execution_count": 14,
     "metadata": {},
     "output_type": "execute_result"
    },
    {
     "data": {
      "image/png": "[encoded data removed]",
      "text/plain": [
       "<Figure size 640x480 with 1 Axes>"
      ]
     },
     "metadata": {},
     "output_type": "display_data"
    }
   ],
   "source": [
    "import matplotlib.pyplot as plt\n",
    "plt.plot(range(100), [i.item() for i in cr_values['f_norm']])\n",
    "plt.title(\"Frobenious norm loss vs epoch\")"
   ]
  },
  {
   "cell_type": "code",
   "execution_count": 15,
   "metadata": {},
   "outputs": [
    {
     "name": "stdout",
     "output_type": "stream",
     "text": [
      "Test Loss: 0.0000\n",
      "accuracy: 0.9172986745834351, f_loss: 1.6279720512102358e-05, f_loss_pen: 3.540334364515729e-05\n",
      "Predictions shape: torch.Size([2815, 465]), Targets shape: torch.Size([2815, 465])\n"
     ]
    }
   ],
   "source": [
    "# Step 6.5: Test the model\n",
    "# Run testing\n",
    "test_loss, predictions_test, targets_test = test_model(model, test_loader, criterion)\n",
    "\n",
    "criterion1 = FrobeniusLossWithSignPenalty(lambda_penalty=5e-7)\n",
    "criterion2 = FrobeniusLoss()\n",
    "criterion3 = SignAccuracyLoss()\n",
    "\n",
    "f_loss_pen = criterion1(predictions_test, targets_test)\n",
    "f_loss = criterion2(predictions_test, targets_test)\n",
    "acc = criterion3(predictions_test, targets_test)\n",
    "\n",
    "print(f\"accuracy: {1- acc}, f_loss: {f_loss}, f_loss_pen: {f_loss_pen}\")\n",
    "\n",
    "# Print shape of predictions and targets\n",
    "print(f\"Predictions shape: {predictions_test.shape}, Targets shape: {targets_test.shape}\")"
   ]
  },
  {
   "cell_type": "code",
   "execution_count": 16,
   "metadata": {},
   "outputs": [
    {
     "name": "stdout",
     "output_type": "stream",
     "text": [
      "Test Loss: 0.0000\n",
      "accuracy: 0.8865141868591309, f_loss: 1.959801375051029e-05, f_loss_pen: 4.5792574383085594e-05\n",
      "Predictions shape: torch.Size([11262, 465]), Targets shape: torch.Size([11262, 465])\n"
     ]
    }
   ],
   "source": [
    "# See the results on the train set\n",
    "\n",
    "train_loss, predictions_train, targets_train = test_model(model, train_loader, criterion)\n",
    "\n",
    "criterion1 = FrobeniusLossWithSignPenalty(lambda_penalty=5e-7)\n",
    "criterion2 = FrobeniusLoss()\n",
    "criterion3 = SignAccuracyLoss()\n",
    "\n",
    "f_loss_pen = criterion1(predictions_train, targets_train)\n",
    "f_loss = criterion2(predictions_train, targets_train)\n",
    "acc = criterion3(predictions_train, targets_train)\n",
    "\n",
    "print(f\"accuracy: {1- acc}, f_loss: {f_loss}, f_loss_pen: {f_loss_pen}\")\n",
    "\n",
    "# Print shape of predictions and targets\n",
    "print(f\"Predictions shape: {predictions_train.shape}, Targets shape: {targets_train.shape}\")"
   ]
  },
  {
   "cell_type": "code",
   "execution_count": 17,
   "metadata": {},
   "outputs": [
    {
     "name": "stdout",
     "output_type": "stream",
     "text": [
      "Ratio of true covariance matrices with negative elements (on test set): 77.23% \n",
      "Ratio of pred covariance matrices with negative elements (on test set): 46.39% \n"
     ]
    }
   ],
   "source": [
    "count_pred_test = 0\n",
    "count_trg_test = 0\n",
    "\n",
    "n = 30\n",
    "\n",
    "for index, pred_ in enumerate(predictions_test):\n",
    "  pred = np.array(pred_)\n",
    "  padded_arr = np.pad(pred, (0, n * (n + 1) // 2 - len(pred)), constant_values=0)\n",
    "\n",
    "  # Create the lower triangular matrix\n",
    "  lower_tri_matrix = np.zeros((n, n), dtype=pred.dtype)\n",
    "  lower_tri_matrix[np.tril_indices(n)] = padded_arr\n",
    "  cov_matrix = lower_tri_matrix @ lower_tri_matrix.T\n",
    "\n",
    "  has_negative = (cov_matrix < 0).any()\n",
    "\n",
    "  count_pred_test += has_negative\n",
    "\n",
    "  pred = np.array(targets_test[index])\n",
    "  padded_arr = np.pad(pred, (0, n * (n + 1) // 2 - len(pred)), constant_values=0)\n",
    "\n",
    "  # Create the lower triangular matrix\n",
    "  lower_tri_matrix = np.zeros((n, n), dtype=pred.dtype)\n",
    "  lower_tri_matrix[np.tril_indices(n)] = padded_arr\n",
    "  cov_matrix = lower_tri_matrix @ lower_tri_matrix.T\n",
    "\n",
    "  has_negative = (cov_matrix < 0).any()\n",
    "  \n",
    "  count_trg_test += has_negative\n",
    "\n",
    "print(f\"Ratio of true covariance matrices with negative elements (on test set): {count_trg_test / len(predictions_test) * 100:.2f}% \")\n",
    "print(f\"Ratio of pred covariance matrices with negative elements (on test set): {count_pred_test / len(predictions_test) * 100:.2f}% \")\n"
   ]
  },
  {
   "cell_type": "code",
   "execution_count": 18,
   "metadata": {},
   "outputs": [
    {
     "name": "stdout",
     "output_type": "stream",
     "text": [
      "Ratio of true covariance matrices with negative elements (on test set): 82.61% \n",
      "Ratio of pred covariance matrices with negative elements (on test set): 59.15% \n"
     ]
    }
   ],
   "source": [
    "count_pred_test = 0\n",
    "count_trg_test = 0\n",
    "\n",
    "for index, pred_ in enumerate(predictions_train):\n",
    "  pred = np.array(pred_)\n",
    "  padded_arr = np.pad(pred, (0, n * (n + 1) // 2 - len(pred)), constant_values=0)\n",
    "\n",
    "  # Create the lower triangular matrix\n",
    "  lower_tri_matrix = np.zeros((n, n), dtype=pred.dtype)\n",
    "  lower_tri_matrix[np.tril_indices(n)] = padded_arr\n",
    "  cov_matrix = lower_tri_matrix @ lower_tri_matrix.T\n",
    "\n",
    "  has_negative = (cov_matrix < 0).any()\n",
    "\n",
    "  count_pred_test += has_negative\n",
    "\n",
    "  pred = np.array(targets_train[index])\n",
    "  padded_arr = np.pad(pred, (0, n * (n + 1) // 2 - len(pred)), constant_values=0)\n",
    "\n",
    "  # Create the lower triangular matrix\n",
    "  lower_tri_matrix = np.zeros((n, n), dtype=pred.dtype)\n",
    "  lower_tri_matrix[np.tril_indices(n)] = padded_arr\n",
    "  cov_matrix = lower_tri_matrix @ lower_tri_matrix.T\n",
    "\n",
    "  has_negative = (cov_matrix < 0).any()\n",
    "  \n",
    "  count_trg_test += has_negative\n",
    "\n",
    "print(f\"Ratio of true covariance matrices with negative elements (on test set): {count_trg_test / len(predictions_train) * 100:.2f}% \")\n",
    "print(f\"Ratio of pred covariance matrices with negative elements (on test set): {count_pred_test / len(predictions_train) * 100:.2f}% \")"
   ]
  },
  {
   "cell_type": "markdown",
   "metadata": {},
   "source": [
    "## Cross-Validation"
   ]
  },
  {
   "cell_type": "code",
   "execution_count": 21,
   "metadata": {},
   "outputs": [
    {
     "data": {
      "text/plain": [
       "15"
      ]
     },
     "execution_count": 21,
     "metadata": {},
     "output_type": "execute_result"
    }
   ],
   "source": [
    "cholesky_vectors.shape[1]"
   ]
  },
  {
   "cell_type": "code",
   "execution_count": 22,
   "metadata": {},
   "outputs": [],
   "source": [
    "# def prepare_data1(data, sequence_length, train_ratio=0.9):\n",
    "#     \"\"\"\n",
    "#     Split data into training and validation datasets.\n",
    "\n",
    "#     The last `1 - train_ratio` fraction of the data is allocated to the validation set.\n",
    "#     \"\"\"\n",
    "#     train_size = int(len(data) * train_ratio)\n",
    "#     train_data = data[:train_size]\n",
    "#     val_data = data[train_size:]\n",
    "\n",
    "#     train_dataset = CholeskyDataset(train_data, sequence_length)\n",
    "#     val_dataset = CholeskyDataset(val_data, sequence_length)\n",
    "\n",
    "#     return train_dataset, val_dataset\n",
    "\n",
    "# # Train Function\n",
    "# def train_and_validate(model, train_loader, val_loader, criterion, optimizer, num_epochs, crit_dict=None):\n",
    "#     if crit_dict is not None:\n",
    "#         cr_values = {}\n",
    "#         for key, cr in crit_dict.items():\n",
    "#             cr_values[key] = []\n",
    "\n",
    "#     train_losses = []\n",
    "#     val_losses = []\n",
    "#     for epoch in range(num_epochs):\n",
    "#         # Training Loop\n",
    "#         model.train()\n",
    "#         # train_loss = 0\n",
    "#         tr_predictions = []\n",
    "#         tr_targets = []\n",
    "#         for x, y in train_loader:\n",
    "#             optimizer.zero_grad()\n",
    "#             y_pred = model(x)\n",
    "#             loss = criterion(y_pred, y)\n",
    "#             loss.backward()\n",
    "#             optimizer.step()\n",
    "#             tr_predictions.append(y_pred)\n",
    "#             tr_targets.append(y)\n",
    "#             # train_loss += loss.item()\n",
    "#         tr_predictions = torch.cat(tr_predictions, dim=0)\n",
    "#         tr_targets = torch.cat(tr_targets, dim=0)\n",
    "#         train_losses.append(criterion(tr_predictions, tr_targets).item())\n",
    "\n",
    "#         # Validation Loop\n",
    "#         model.eval()\n",
    "#         # val_loss = 0\n",
    "#         all_predictions = []\n",
    "#         all_targets = []\n",
    "#         with torch.no_grad():\n",
    "#             for x, y in val_loader:\n",
    "#                 y_pred = model(x)\n",
    "#                 all_predictions.append(y_pred)\n",
    "#                 all_targets.append(y)\n",
    "#                 # loss = criterion(y_pred, y)\n",
    "#                 # val_loss += loss.item()\n",
    "\n",
    "#         all_predictions = torch.cat(all_predictions, dim=0)\n",
    "#         all_targets = torch.cat(all_targets, dim=0)\n",
    "        \n",
    "#         val_losses.append(criterion(all_predictions, all_targets).item())\n",
    "\n",
    "#         if crit_dict is not None:\n",
    "#             for key, cr in crit_dict.items():\n",
    "#                  cr_values[key].append(cr(all_predictions, all_targets).item())\n",
    "    \n",
    "#     return train_losses, val_losses, cr_values\n",
    "\n",
    "# if __name__ == \"__main__\":\n",
    "#     cholesky_vectors1 = cholesky_vectors[:11264]\n",
    "#     num_epochs = 80\n",
    "#     batch_size = 64\n",
    "\n",
    "#     sequence_lengths = [7, 14]\n",
    "#     hidden_sizes = [64, 128, 465]#[15, 32, 64, 128]\n",
    "#     learning_rates = [0.0001, 0.00001]\n",
    "#     penalties = [1e-6, 5e-7, 1e-7]\n",
    "#     results = {}\n",
    "\n",
    "#     for hidden_size in hidden_sizes:\n",
    "#         for sequence_length in sequence_lengths:\n",
    "#             for lr in learning_rates:\n",
    "#                 for penalty in penalties:\n",
    "#                     print(f\"Running experiment: hidden_size={hidden_size}, sequence_length={sequence_length}, lr={lr}, penalty:{penalty}\")\n",
    "\n",
    "#                     # Prepare train and validation datasets\n",
    "#                     train_dataset, val_dataset = prepare_data1(cholesky_vectors1, sequence_length)\n",
    "#                     train_loader = DataLoader(train_dataset, batch_size=batch_size, shuffle=True)\n",
    "#                     val_loader = DataLoader(val_dataset, batch_size=batch_size, shuffle=False)\n",
    "\n",
    "#                     input_size = cholesky_vectors1.shape[1]\n",
    "#                     output_size = cholesky_vectors1.shape[1]\n",
    "#                     model = CholeskyLSTM(input_size, hidden_size, output_size)\n",
    "#                     criterion = FrobeniusLossWithSignPenalty(lambda_penalty=penalty)\n",
    "#                     optimizer = torch.optim.Adam(model.parameters(), lr=lr)\n",
    "\n",
    "#                     criterion1 = FrobeniusLossWithSignPenalty(lambda_penalty=penalty)\n",
    "#                     criterion2 = FrobeniusLoss()\n",
    "#                     criterion3 = SignAccuracyLoss()\n",
    "\n",
    "#                     crit_dict = {'f_norm':criterion1, 'f_norm_pen':criterion2, 'acc':criterion3}\n",
    "\n",
    "\n",
    "#                     train_losses, val_losses, cr_values = train_and_validate(\n",
    "#                         model, train_loader, val_loader, criterion, optimizer, num_epochs, crit_dict\n",
    "#                     )\n",
    "\n",
    "#                     # Store results\n",
    "#                     key = f\"hidden_size={hidden_size}, sequence_length={sequence_length}, lr={lr}, penalty:{penalty}\"\n",
    "#                     results[key] = (train_losses, val_losses, cr_values)\n",
    "\n",
    "#                     # Plot results\n",
    "#                     # plt.figure()\n",
    "#                     # plt.plot(range(1, num_epochs + 1), train_losses, label='Train Loss')\n",
    "#                     # plt.plot(range(1, num_epochs + 1), val_losses, label='Validation Loss')\n",
    "#                     # plt.title(f\"Loss Curves: {key}\")\n",
    "#                     # plt.xlabel('Epoch')\n",
    "#                     # plt.ylabel('Loss')\n",
    "#                     # plt.legend()\n",
    "#                     # plt.show()\n"
   ]
  },
  {
   "cell_type": "code",
   "execution_count": 23,
   "metadata": {},
   "outputs": [],
   "source": [
    "# plt.plot(results['hidden_size=1028, sequence_length=35, lr=0.0001, penalty:5e-06'][2]['f_norm'][10:])"
   ]
  },
  {
   "cell_type": "code",
   "execution_count": 24,
   "metadata": {},
   "outputs": [],
   "source": [
    "# plt.plot(results['hidden_size=15, sequence_length=35, lr=0.0001, penalty:5e-06'][2]['acc'][10:])"
   ]
  },
  {
   "cell_type": "code",
   "execution_count": 25,
   "metadata": {},
   "outputs": [],
   "source": [
    "# np.mean(results['hidden_size=15, sequence_length=35, lr=0.0001, penalty:5e-06'][2]['acc'][-10:])\n",
    "# np.mean(results['hidden_size=15, sequence_length=35, lr=0.0001, penalty:5e-06'][2]['f_norm'][-10:])\n",
    "# np.mean(results['hidden_size=15, sequence_length=35, lr=0.0001, penalty:5e-06'][2]['f_norm_pen'][-10:])"
   ]
  },
  {
   "cell_type": "code",
   "execution_count": 26,
   "metadata": {},
   "outputs": [],
   "source": [
    "# res_df = pd.DataFrame(columns=['f_norm', 'f_norm_pen', 'acc'])\n",
    "# for key, val in results.items():\n",
    "#     f_norm_mean, f_norm_pen_mean, acc_mean = np.mean(val[2]['f_norm'][-5:]), np.mean(val[2]['f_norm_pen'][-5:]), np.mean(val[2]['acc'][-5:])\n",
    "#     res_df.loc[key] = {'f_norm':f_norm_mean, 'f_norm_pen':f_norm_pen_mean, 'acc':acc_mean}\n",
    "\n",
    "# res_df.head()"
   ]
  },
  {
   "cell_type": "code",
   "execution_count": 27,
   "metadata": {},
   "outputs": [],
   "source": [
    "# res_df.sort_values(['acc']).head(20)"
   ]
  },
  {
   "cell_type": "code",
   "execution_count": null,
   "metadata": {},
   "outputs": [],
   "source": []
  }
 ],
 "metadata": {
  "kernelspec": {
   "display_name": "base",
   "language": "python",
   "name": "python3"
  },
  "language_info": {
   "codemirror_mode": {
    "name": "ipython",
    "version": 3
   },
   "file_extension": ".py",
   "mimetype": "text/x-python",
   "name": "python",
   "nbconvert_exporter": "python",
   "pygments_lexer": "ipython3",
   "version": "3.10.12"
  }
 },
 "nbformat": 4,
 "nbformat_minor": 2
}
